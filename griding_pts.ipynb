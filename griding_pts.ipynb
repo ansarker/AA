{
 "cells": [
  {
   "cell_type": "code",
   "execution_count": 1,
   "metadata": {},
   "outputs": [],
   "source": [
    "import os\n",
    "import numpy as np\n",
    "import cv2\n",
    "from PIL import Image\n",
    "import matplotlib.pyplot as plt"
   ]
  },
  {
   "cell_type": "code",
   "execution_count": 2,
   "metadata": {},
   "outputs": [],
   "source": [
    "root_dir = 'grid_data'\n",
    "\n",
    "with open(f'{root_dir}/images.txt', 'w') as f:\n",
    "    for img_file in os.listdir(f'{root_dir}/clothes'):\n",
    "        f.writelines(f'{img_file.rsplit(\".\")[0]}\\n')\n",
    "f.close()\n",
    "    "
   ]
  },
  {
   "cell_type": "code",
   "execution_count": 3,
   "metadata": {},
   "outputs": [
    {
     "name": "stdout",
     "output_type": "stream",
     "text": [
      "['00057_0', '00015_0', '00033_0', '00075_0', '00109_0', '00034_0']\n"
     ]
    }
   ],
   "source": [
    "with open(f'{root_dir}/images.txt', 'r') as f:\n",
    "    img_list = [line.strip() for line in f.readlines()]\n",
    "\n",
    "print(img_list)"
   ]
  },
  {
   "attachments": {},
   "cell_type": "markdown",
   "metadata": {},
   "source": [
    "## Landmarks and their codes\n",
    "\n",
    "| Label | Code |\n",
    "| --- | --- |\n",
    "| Left shoulder | 10 |\n",
    "| Right shoulder | 15 |\n",
    "| Neck line | 13 |\n",
    "| Left elbow | 25 |\n",
    "| Right elbow | 32 |\n",
    "| Lower chest | 29 |\n",
    "| Left hand | 49 |\n",
    "| Right hand | 56 |\n",
    "| Middle waist | 53 |"
   ]
  },
  {
   "cell_type": "code",
   "execution_count": 4,
   "metadata": {},
   "outputs": [],
   "source": [
    "def get_max_contour(mask):\n",
    "    contours, _ = cv2.findContours(mask, cv2.RETR_EXTERNAL, cv2.CHAIN_APPROX_SIMPLE)\n",
    "    if len(contours) != 0:\n",
    "        max_c = max(contours, key=cv2.contourArea)\n",
    "        x, y, w, h = cv2.boundingRect(max_c)\n",
    "\n",
    "        return max_c, (x, y, w, h)"
   ]
  },
  {
   "cell_type": "code",
   "execution_count": 5,
   "metadata": {},
   "outputs": [],
   "source": [
    "def resize_thresh(img, size=(256, 256)):\n",
    "    img = cv2.resize(img, size)\n",
    "    return img"
   ]
  },
  {
   "cell_type": "code",
   "execution_count": 7,
   "metadata": {},
   "outputs": [],
   "source": [
    "def make_grid(image, nrows=4, ncols=4):\n",
    "    result = np.ones_like(image) * 255\n",
    "\n",
    "    im_width, im_height, _ = image.shape\n",
    "    row_width = int(im_width / ncols)\n",
    "    row_height = int(im_height / nrows)\n",
    "    \n",
    "    cell_no = 0\n",
    "    landmarks = {}\n",
    "    for i in range(0, nrows):\n",
    "        for j in range(0, ncols):\n",
    "            box = (j * row_width, i * row_height, j * row_width +\n",
    "                   row_width, i * row_height + row_height)\n",
    "            cell_no += 1\n",
    "            # if i==j or i == 0 or j == 0 or i == nrows-1 or j == ncols-1:\n",
    "            if cell_no == 10 or cell_no == 13 or cell_no == 15 \\\n",
    "            or cell_no == 25 or cell_no == 29 or cell_no == 32 \\\n",
    "            or cell_no == 49 or cell_no == 53 or cell_no == 56:\n",
    "                result[box[1]:box[3], box[0]:box[2]] = image[box[1]:box[3], box[0]:box[2]]\n",
    "                cv2.rectangle(result, (box[0], box[1]), (box[2], box[3]), (0, 0, 0), 1)\n",
    "                cv2.putText(result, f'{cell_no}', (box[0]+10, box[1]+10), cv2.FONT_HERSHEY_SIMPLEX, 0.4, (255, 0, 0), 1)\n",
    "                cv2.circle(result, (box[0]+row_width//2, box[1]+row_height//2), 1, (255, 0, 0), 2)\n",
    "                points = (box[0]+row_width//2, box[1]+row_height//2)\n",
    "                landmarks[cell_no] = points\n",
    "    \n",
    "    return result, landmarks\n",
    "\n",
    "# plt.imshow(make_grid(image=clothes_box, nrows=8, ncols=8)[0])"
   ]
  },
  {
   "cell_type": "code",
   "execution_count": 8,
   "metadata": {},
   "outputs": [],
   "source": [
    "def split_image(im, rows, cols, verbose=False, output_dir=None):\n",
    "    name = \"grid\"\n",
    "    im_width, im_height = im.size\n",
    "    row_width = int(im_width / cols)\n",
    "    row_height = int(im_height / rows)\n",
    "\n",
    "    n = 0\n",
    "    for i in range(0, rows):\n",
    "        for j in range(0, cols):\n",
    "            box = (j * row_width, i * row_height, j * row_width +\n",
    "                   row_width, i * row_height + row_height)\n",
    "            outp = im.crop(box)\n",
    "            outp_path = name + \"_\" + str(n) + \".png\"\n",
    "            outp_path = os.path.join(output_dir, outp_path)\n",
    "            if verbose:\n",
    "                print(\"Exporting image tile: \" + outp_path)\n",
    "            outp.save(outp_path)\n",
    "            n += 1"
   ]
  },
  {
   "cell_type": "code",
   "execution_count": 9,
   "metadata": {},
   "outputs": [
    {
     "name": "stdout",
     "output_type": "stream",
     "text": [
      "{'00057_0': {10: (48, 48), 13: (144, 48), 15: (208, 48), 25: (16, 112), 29: (144, 112), 32: (240, 112), 49: (16, 208), 53: (144, 208), 56: (240, 208)}, '00015_0': {10: (48, 48), 13: (144, 48), 15: (208, 48), 25: (16, 112), 29: (144, 112), 32: (240, 112), 49: (16, 208), 53: (144, 208), 56: (240, 208)}, '00033_0': {10: (48, 48), 13: (144, 48), 15: (208, 48), 25: (16, 112), 29: (144, 112), 32: (240, 112), 49: (16, 208), 53: (144, 208), 56: (240, 208)}, '00075_0': {10: (48, 48), 13: (144, 48), 15: (208, 48), 25: (16, 112), 29: (144, 112), 32: (240, 112), 49: (16, 208), 53: (144, 208), 56: (240, 208)}, '00109_0': {10: (48, 48), 13: (144, 48), 15: (208, 48), 25: (16, 112), 29: (144, 112), 32: (240, 112), 49: (16, 208), 53: (144, 208), 56: (240, 208)}, '00034_0': {10: (48, 48), 13: (144, 48), 15: (208, 48), 25: (16, 112), 29: (144, 112), 32: (240, 112), 49: (16, 208), 53: (144, 208), 56: (240, 208)}}\n"
     ]
    }
   ],
   "source": [
    "clothes_landmarks = {}\n",
    "\n",
    "for img in img_list:\n",
    "    clothes = cv2.imread(f'{root_dir}/clothes/{img}.jpg')\n",
    "    clothes_mask = cv2.imread(f'{root_dir}/clothes_mask/{img}.jpg', 0)\n",
    "    \n",
    "    contour, (x, y, w, h) = get_max_contour(mask=clothes_mask)\n",
    "    \n",
    "    clothes_box = clothes[y:y+h,x:x+w]\n",
    "    clothes_mask_box = clothes_mask[y:y+h,x:x+w]\n",
    "    \n",
    "    clothes_box = resize_thresh(clothes_box)\n",
    "    clothes_mask_box = resize_thresh(clothes_mask_box)\n",
    "    \n",
    "    clothes_box_grid, landmarks = make_grid(image=clothes_box, nrows=8, ncols=8)\n",
    "    clothes_landmarks[img] = landmarks\n",
    "    \n",
    "    split_image(im=Image.fromarray(clothes_box), rows=8, cols=8, verbose=False, output_dir='grid_data/grids')\n",
    "    \n",
    "    \n",
    "    # plt.figure(figsize=(15, 5))\n",
    "    # plt.subplot(1, 3, 1)\n",
    "    # plt.imshow(clothes_box, cmap='gray')\n",
    "    # plt.subplot(1, 3, 2)\n",
    "    # plt.imshow(clothes_mask_box, cmap='gray')\n",
    "    # plt.subplot(1, 3, 3)\n",
    "    # plt.imshow(clothes_box_grid, cmap='gray')\n",
    "    # plt.show()\n",
    "\n",
    "print(clothes_landmarks)"
   ]
  },
  {
   "cell_type": "code",
   "execution_count": 10,
   "metadata": {},
   "outputs": [
    {
     "name": "stdout",
     "output_type": "stream",
     "text": [
      "Write to json file successfully!\n"
     ]
    }
   ],
   "source": [
    "import json\n",
    "\n",
    "# Serializing json\n",
    "json_object = json.dumps(clothes_landmarks, indent=2)\n",
    " \n",
    "# Writing to sample.json\n",
    "with open(\"./grid_data/jsons/clothes_landmarks.json\", \"w\") as outfile:\n",
    "    outfile.write(json_object)\n",
    "    outfile.close()\n",
    "\n",
    "print('Write to json file successfully!')"
   ]
  },
  {
   "cell_type": "code",
   "execution_count": null,
   "metadata": {},
   "outputs": [],
   "source": []
  }
 ],
 "metadata": {
  "kernelspec": {
   "display_name": "venv",
   "language": "python",
   "name": "python3"
  },
  "language_info": {
   "codemirror_mode": {
    "name": "ipython",
    "version": 3
   },
   "file_extension": ".py",
   "mimetype": "text/x-python",
   "name": "python",
   "nbconvert_exporter": "python",
   "pygments_lexer": "ipython3",
   "version": "3.8.16"
  },
  "orig_nbformat": 4
 },
 "nbformat": 4,
 "nbformat_minor": 2
}
